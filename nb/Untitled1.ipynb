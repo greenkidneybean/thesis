{
 "cells": [
  {
   "cell_type": "code",
   "execution_count": 12,
   "id": "31c7579b-b082-4afd-9f0f-423aa9607827",
   "metadata": {
    "tags": []
   },
   "outputs": [],
   "source": [
    "# check design sets\n",
    "import pickle\n",
    "import itertools\n",
    "import pandas as pd\n",
    "import numpy as np\n",
    "import matplotlib.pyplot as plt\n",
    "import seaborn as sns"
   ]
  },
  {
   "cell_type": "code",
   "execution_count": 13,
   "id": "3c825e0f-ade4-4721-ae74-00aefc05ec5f",
   "metadata": {
    "tags": []
   },
   "outputs": [],
   "source": [
    "# make barplot of PKR variants present in PacBio reads, 220823MC\n",
    "set_1 = '../data/dms_variants_210303/pkr_designed_set.pkl'\n",
    "set_2 = '../data/dms_variants_220426/output/pkr-designed-variants_set.pkl'\n",
    "protein = 'PKR'\n",
    "\n",
    "win1 = [255,278]\n",
    "win2 = [371,385]\n",
    "win3 = [448,455]\n",
    "win4 = [480,506]\n",
    "pkr_win = {'win_1':win1, 'win_2':win2, 'win_3':win3, 'win_4':win4}\n",
    "pkr_aa_pos = list(itertools.chain.from_iterable([list(range(val[0], val[1]+1)) for val in pkr_win.values()]))"
   ]
  },
  {
   "cell_type": "code",
   "execution_count": 14,
   "id": "0cf9496d-dada-4b3d-be5c-be507489492d",
   "metadata": {
    "tags": []
   },
   "outputs": [
    {
     "data": {
      "text/plain": [
       "400"
      ]
     },
     "execution_count": 14,
     "metadata": {},
     "output_type": "execute_result"
    }
   ],
   "source": [
    "# get designed set\n",
    "with open(set_1, 'rb') as f:\n",
    "    set_1 = pickle.load(f)\n",
    "len(design_set_1)"
   ]
  },
  {
   "cell_type": "code",
   "execution_count": 15,
   "id": "4238ea52-cb0a-43e9-b491-dd611105d9f5",
   "metadata": {
    "tags": []
   },
   "outputs": [
    {
     "data": {
      "text/plain": [
       "435"
      ]
     },
     "execution_count": 15,
     "metadata": {},
     "output_type": "execute_result"
    }
   ],
   "source": [
    "# get designed set\n",
    "with open(set_2, 'rb') as f:\n",
    "    set_2 = pickle.load(f)\n",
    "len(design_set_2)"
   ]
  },
  {
   "cell_type": "code",
   "execution_count": 20,
   "id": "7962eba6-ff40-4208-8a5e-efc33dfe5862",
   "metadata": {
    "tags": []
   },
   "outputs": [
    {
     "data": {
      "text/plain": [
       "376"
      ]
     },
     "execution_count": 20,
     "metadata": {},
     "output_type": "execute_result"
    }
   ],
   "source": [
    "len(set_1 - set_2)"
   ]
  },
  {
   "cell_type": "markdown",
   "id": "b85fa993-fb65-438c-b614-bcf2691817dd",
   "metadata": {},
   "source": [
    "#### get pacbio set\n",
    "df = pd.read_csv(input_file)\n",
    "\n",
    "pacbio_set = set(df.query('n_aa_substitutions == 1')['aa_substitutions'].unique())\n",
    "len(design_set.difference(pacbio_set))"
   ]
  }
 ],
 "metadata": {
  "kernelspec": {
   "display_name": "data_env",
   "language": "python",
   "name": "data_env"
  },
  "language_info": {
   "codemirror_mode": {
    "name": "ipython",
    "version": 3
   },
   "file_extension": ".py",
   "mimetype": "text/x-python",
   "name": "python",
   "nbconvert_exporter": "python",
   "pygments_lexer": "ipython3",
   "version": "3.8.16"
  }
 },
 "nbformat": 4,
 "nbformat_minor": 5
}
