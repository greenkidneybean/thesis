{
 "cells": [
  {
   "cell_type": "markdown",
   "metadata": {},
   "source": [
    "# make heatmap of AA changes\n",
    "\n",
    "probably going to use nb #1 missense_table, but need to make a longer table\n",
    "- each codon has a single doped NT\n",
    "- list all the AAs encoded by that new doped codon"
   ]
  },
  {
   "cell_type": "code",
   "execution_count": 13,
   "metadata": {
    "tags": []
   },
   "outputs": [],
   "source": [
    "import itertools\n",
    "import numpy as np\n",
    "import pandas as pd\n",
    "import seaborn as sns\n",
    "import matplotlib.pyplot as plt\n",
    "from matplotlib import gridspec\n",
    "import pickle\n"
   ]
  },
  {
   "cell_type": "code",
   "execution_count": 2,
   "metadata": {
    "tags": []
   },
   "outputs": [],
   "source": [
    "# next is to go from a sequence to a heatmap\n",
    "# requires sequence and position filter\n",
    "\n",
    "# input\n",
    "protein = 'K3L'\n",
    "seq = 'atgCTTgcattttgttattcgttgcccaatgcgggtgatgtaataaagggcagagtatacgagaaggattatgctctatatatttatctttttgactatcctcactttgaagctatcttggcagagagtgttaagatgcatatggatagatatgttgaatatagggataaactggtagggaaaactgtaaaagttaaagtgattagagttgattatacaaaaggatatatagatgtcaattacaaaaggatgtgtagacatcaatag'\n",
    "mut_pos = [(2,88)]\n",
    "\n",
    "# get list of codons\n",
    "seq = seq.upper()\n",
    "codons = [seq[i:i+3] for i in range(0, len(seq), 3)]\n",
    "\n",
    "# make df of wt and iupac\n",
    "mis_df = pd.read_csv('../data/dms_variants_210303/missense_table.csv')\n",
    "\n",
    "data = {'codon':codons}\n",
    "df = pd.DataFrame(data)\n",
    "# merge the two\n",
    "df = pd.merge(df, mis_df[['codon','aa','mis_var']], how='left', on='codon')\n",
    "\n",
    "# convert string into list of characters\n",
    "df.mis_var = df.mis_var.apply(lambda x:list(x))\n",
    "\n",
    "# create a T/F df based on AA abbreviations\n",
    "def boolean_df(item_lists, unique_items):# Create empty dict\n",
    "    bool_dict = {}\n",
    "    \n",
    "    # Loop through all the tags\n",
    "    for i, item in enumerate(unique_items):\n",
    "        \n",
    "        # Apply boolean mask\n",
    "        bool_dict[item] = item_lists.apply(lambda x: item in x)\n",
    "            \n",
    "    # Return the results as a dataframe\n",
    "    return pd.DataFrame(bool_dict)\n",
    "\n",
    "# + H-K, - D-E, Polar-neutral C-T, Non-polar A-V, Aromatic F-Y, Unique G-P, Stop *\n",
    "aa_list = ['H','K','R','D','E','C','M','N','Q','S','T','A','I','L','V','F','W','Y','G','P','*']\n",
    "df2 = boolean_df(df.mis_var, aa_list)\n",
    "df2 = df2.astype(int)\n",
    "\n",
    "# replace all \"0\" with \"na\"\n",
    "df2.replace(0,np.nan, inplace=True)\n",
    "\n",
    "# change all \n",
    "mut_pos_list = []\n",
    "for win in mut_pos:\n",
    "        mut_pos_list.append(list(range(win[0]-1,win[1])))\n",
    "mut_pos_list = list(itertools.chain.from_iterable(mut_pos_list))\n",
    "\n",
    "# change all values not in filter to \"na\"\n",
    "df2.loc[~df.index.isin(mut_pos_list)] = np.nan\n",
    "\n",
    "# add in the wt aa with a value of \"2\"\n",
    "df3 = df.join(df2)\n",
    "for index,row in df3.iterrows():\n",
    "    wt_aa = row['aa']\n",
    "    df3.loc[index, wt_aa] = 2\n",
    "\n",
    "# increase index by 1 for residue position\n",
    "df3.index = df3.index + 1\n",
    "\n",
    "# add count of missense variants\n",
    "df3['variant_sum'] = df3[aa_list].sum(axis=1) - 2 #-2 is b/c wt has value of 2, remove\n",
    "\n",
    "# convert nonsense variants to 0, color as red in heatmap\n",
    "df3['*'].replace({1:0},inplace=True)\n",
    "df3.rename(columns={'*':'STOP'},inplace=True)\n",
    "\n",
    "\n",
    "# mark sites within 5a of PKR\n",
    "# select 5a_k3l, 1luz_k3l within 5 of 2a1a\n",
    "close = [22,23,24,25,27,36,37,38,39,41,44,45,46,47,48,49,50,53,69,70,71,75,76,77,78]\n",
    "df3['Within 5Å'] = np.where(df.index.isin(close), 3, np.nan)"
   ]
  },
  {
   "cell_type": "code",
   "execution_count": 3,
   "metadata": {
    "tags": []
   },
   "outputs": [],
   "source": [
    "df3.to_csv('../data/dms_variants_210303/k3l_missense-variants.csv')"
   ]
  },
  {
   "cell_type": "code",
   "execution_count": 10,
   "metadata": {
    "tags": []
   },
   "outputs": [],
   "source": [
    "# save designed variants as set.pkl\n",
    "k3l_design_list = []\n",
    "\n",
    "for index,row in df3.iterrows():\n",
    "    if 1 < index < 89:\n",
    "        for aa in row['mis_var']:\n",
    "            k3l_design_list.append(f\"{row['aa']}{index}{aa}\")\n",
    "\n",
    "# get designed set\n",
    "design_output = '../data/dms_variants_210303/k3l_nonsynonymous_set.pkl'\n",
    "with open(design_output, 'wb') as f:\n",
    "    pickle.dump(set(k3l_design_list), f, protocol=pickle.HIGHEST_PROTOCOL)"
   ]
  },
  {
   "cell_type": "code",
   "execution_count": 105,
   "metadata": {
    "tags": []
   },
   "outputs": [
    {
     "data": {
      "image/png": "[encoded data removed]",
      "text/plain": [
       "<Figure size 650x900 with 1 Axes>"
      ]
     },
     "metadata": {},
     "output_type": "display_data"
    }
   ],
   "source": [
    "# plot\n",
    "font = {'family': 'Times New Roman',\n",
    "        'weight': 'normal',\n",
    "        'size': 8}\n",
    "plt.rc('font', **font)\n",
    "\n",
    "# just need to add red to highlight the stop variants\n",
    "# add a gray background for variants not made\n",
    "\n",
    "# Set the figure size\n",
    "plt.figure(figsize=(6.5, 9))\n",
    "\n",
    "# Prepare the data\n",
    "aa_list = ['H','K','R','D','E','C','M','N','Q','S','T','A','I','L','V','F','W','Y','G','P','STOP']\n",
    "data = df3[aa_list].iloc[0:44].T\n",
    "\n",
    "# Create the seaborn heatmap\n",
    "ax = sns.heatmap(data, square=True, cmap=['#E62929','#7a6bb0','#19172b'], cbar=False) # red, purple, black\n",
    "\n",
    "# Set x-axis tick labels and font size\n",
    "x_ticks = range(len(data.columns))\n",
    "x_labels = data.columns\n",
    "\n",
    "# Adjust x tick positions to be centered\n",
    "adjusted_ticks = [tick + 0.5 for tick in x_ticks]\n",
    "plt.xticks(adjusted_ticks, x_labels, fontsize=7)\n",
    "\n",
    "# Rotate and center the y tick labels\n",
    "plt.yticks(fontsize=7, rotation=0, ha='center')\n",
    "\n",
    "# box the heatmap\n",
    "ax.spines['top'].set_visible(True)\n",
    "ax.spines['bottom'].set_visible(True)\n",
    "ax.spines['left'].set_visible(True)\n",
    "ax.spines['right'].set_visible(True)\n",
    "\n",
    "ax.set_facecolor('#F3F3F3'), # gray the background\n",
    "\n",
    "fig = ax.get_figure()\n",
    "fig.savefig(f'../data/dms_variants_210303/{protein}-1_missense-count.svg', dpi=300)\n"
   ]
  },
  {
   "cell_type": "code",
   "execution_count": 102,
   "metadata": {
    "tags": []
   },
   "outputs": [
    {
     "data": {
      "image/png": "[encoded data removed]",
      "text/plain": [
       "<Figure size 650x900 with 1 Axes>"
      ]
     },
     "metadata": {},
     "output_type": "display_data"
    }
   ],
   "source": [
    "# Set the figure size\n",
    "plt.figure(figsize=(6.5, 9))\n",
    "\n",
    "# Prepare the data\n",
    "aa_list = ['H','K','R','D','E','C','M','N','Q','S','T','A','I','L','V','F','W','Y','G','P','STOP']\n",
    "data = df3[aa_list].iloc[44:].T\n",
    "\n",
    "# Create the seaborn heatmap\n",
    "ax = sns.heatmap(data, square=True, cmap=['#E62929','#7a6bb0','#19172b'], cbar=False) # red, purple, black\n",
    "\n",
    "# Set x-axis tick labels and font size\n",
    "x_ticks = range(len(data.columns))\n",
    "x_labels = data.columns\n",
    "\n",
    "# Adjust x tick positions to be centered\n",
    "adjusted_ticks = [tick + 0.5 for tick in x_ticks]\n",
    "plt.xticks(adjusted_ticks, x_labels, fontsize=7)\n",
    "\n",
    "# Rotate and center the y tick labels\n",
    "plt.yticks(fontsize=7, rotation=0, ha='center')\n",
    "\n",
    "# box the heatmap\n",
    "ax.spines['top'].set_visible(True)\n",
    "ax.spines['bottom'].set_visible(True)\n",
    "ax.spines['left'].set_visible(True)\n",
    "ax.spines['right'].set_visible(True)\n",
    "\n",
    "ax.set_facecolor('#F3F3F3'), # gray the background\n",
    "\n",
    "fig = ax.get_figure()\n",
    "fig.savefig(f'../data/dms_variants_210303/{protein}-2_missense-count.svg', dpi=300)\n"
   ]
  },
  {
   "cell_type": "code",
   "execution_count": 119,
   "metadata": {
    "tags": []
   },
   "outputs": [
    {
     "data": {
      "image/png": "[encoded data removed]",
      "text/plain": [
       "<Figure size 650x900 with 1 Axes>"
      ]
     },
     "metadata": {},
     "output_type": "display_data"
    }
   ],
   "source": [
    "# plot\n",
    "font = {'family': 'Times New Roman',\n",
    "        'weight': 'normal',\n",
    "        'size': 8}\n",
    "plt.rc('font', **font)\n",
    "\n",
    "# just need to add red to highlight the stop variants\n",
    "# add a gray background for variants not made\n",
    "\n",
    "# Set the figure size\n",
    "plt.figure(figsize=(6.5, 9))\n",
    "\n",
    "# Prepare the data\n",
    "aa_list = ['H','K','R','D','E','C','M','N','Q','S','T','A','I','L','V','F','W','Y','G','P','STOP']\n",
    "data = df3[aa_list].iloc[0:44].T\n",
    "\n",
    "# Create the seaborn heatmap\n",
    "ax = sns.heatmap(data, square=True, cmap=['#E62929','#7a6bb0','#19172b'], cbar=False) # red, purple, black\n",
    "\n",
    "# Set x-axis tick labels and font size\n",
    "x_ticks = range(len(data.columns))\n",
    "x_labels = data.columns\n",
    "\n",
    "# Adjust x tick positions to be centered\n",
    "adjusted_ticks = [tick + 0.5 for tick in x_ticks]\n",
    "plt.xticks(adjusted_ticks, x_labels, fontsize=7)\n",
    "\n",
    "# Rotate and center the y tick labels\n",
    "y_ticks = range(len(data.index))\n",
    "y_labels = data.index\n",
    "\n",
    "# Adjust y tick labels individually\n",
    "y_tick_labels = []\n",
    "for i, label in enumerate(y_labels):\n",
    "    if i == len(y_labels) - 1:\n",
    "        y_tick_labels.append(f'{label}        ')\n",
    "    else:\n",
    "        y_tick_labels.append(label)\n",
    "\n",
    "adjusted_yticks = [tick + 0.5 for tick in y_ticks]\n",
    "plt.yticks(adjusted_yticks, y_tick_labels, fontsize=7, rotation=0, ha='center')\n",
    "\n",
    "# box the heatmap\n",
    "ax.spines['top'].set_visible(True)\n",
    "ax.spines['bottom'].set_visible(True)\n",
    "ax.spines['left'].set_visible(True)\n",
    "ax.spines['right'].set_visible(True)\n",
    "\n",
    "ax.set_facecolor('#F3F3F3'), # gray the background\n",
    "\n",
    "fig = ax.get_figure()\n",
    "#fig.savefig(f'../data/dms_variants_210303/{protein}-1_missense-count.svg', dpi=300)\n"
   ]
  },
  {
   "cell_type": "code",
   "execution_count": 110,
   "metadata": {
    "tags": []
   },
   "outputs": [
    {
     "data": {
      "text/plain": [
       "Index(['STOP'], dtype='object')"
      ]
     },
     "execution_count": 110,
     "metadata": {},
     "output_type": "execute_result"
    }
   ],
   "source": [
    "y_labels[-1:]"
   ]
  },
  {
   "cell_type": "code",
   "execution_count": 109,
   "metadata": {
    "tags": []
   },
   "outputs": [
    {
     "data": {
      "text/plain": [
       "Index(['H', 'K', 'R', 'D', 'E', 'C', 'M', 'N', 'Q', 'S', 'T', 'A', 'I', 'L',\n",
       "       'V', 'F', 'W', 'Y', 'G', 'P'],\n",
       "      dtype='object')"
      ]
     },
     "execution_count": 109,
     "metadata": {},
     "output_type": "execute_result"
    }
   ],
   "source": [
    "y_labels[:-1]"
   ]
  },
  {
   "cell_type": "code",
   "execution_count": 18,
   "metadata": {
    "tags": []
   },
   "outputs": [],
   "source": [
    "# make PKR plot\n",
    "protein = \"PKR\"\n",
    "seq = 'ATGGCTGGTGATCTTTCAGCAGGTTTCTTCATGGAGGAACTTAATACATACCGTCAGAAGCAGGGAGTAGTACTTAAATATCAAGAACTGCCTAATTCAGGACCTCCACATGATAGGAGGTTTACATTTCAAGTTATAATAGATGGAAGAGAATTTCCAGAAGGTGAAGGTAGATCAAAGAAGGAAGCAAAAAATGCCGCAGCCAAATTAGCTGTTGAGATACTTAATAAGGAAAAGAAGGCAGTTAGTCCTTTATTATTGACAACAACGAATTCTTCAGAAGGATTATCCATGGGGAATTACATAGGCCTTATCAATAGAATTGCCCAGAAGAAAAGACTAACTGTAAATTATGAACAGTGTGCATCGGGGGTGCATGGGCCAGAAGGATTTCATTATAAATGCAAAATGGGACAGAAAGAATATAGTATTGGTACAGGTTCTACTAAACAGGAAGCAAAACAATTGGCCGCTAAACTTGCATATCTTCAGATATTATCAGAAGAAACCTCAGTGAAATCTGACTACCTGTCCTCTGGTTCTTTTGCTACTACGTGTGAGTCCCAAAGCAACTCTTTAGTGACCAGCACACTCGCTTCTGAATCATCATCTGAAGGTGACTTCTCAGCAGATACATCAGAGATAAATTCTAACAGTGACAGTTTAAACAGTTCTTCGTTGCTTATGAATGGTCTCAGAAATAATCAAAGGAAGGCAAAAAGATCTTTGGCACCCAGATTTGACCTTCCTGACATGAAAGAAACAAAGTATACTGTGGACAAGAGGTTTGGCATGGATTTTAAAGAAATAGAATTAATTGGCTCAGGTGGATTTGGCCAAGTTTTCAAAGCAAAACACAGAATTGACGGAAAGACTTACGTTATTAAACGTGTTAAATATAATAACGAGAAGGCGGAGCGTGAAGTAAAAGCATTGGCAAAACTTGATCATGTAAATATTGTTCACTACAATGGCTGTTGGGATGGATTTGATTATGATCCTGAGACCAGTGATGATTCTCTTGAGAGCAGTGATTATGATCCTGAGAACAGCAAAAATAGTTCAAGGTCAAAGACTAAGTGCCTTTTCATCCAAATGGAATTCTGTGATAAAGGGACCTTGGAACAATGGATTGAAAAAAGAAGAGGCGAGAAACTAGACAAAGTTTTGGCTTTGGAACTCTTTGAACAAATAACAAAAGGGGTGGATTATATACATTCAAAAAAATTAATTCATAGAGATCTTAAGCCAAGTAATATATTCTTAGTAGATACAAAACAAGTAAAGATTGGAGACTTTGGACTTGTAACATCTCTGAAAAATGATGGAAAGCGAACAAGGAGTAAGGGAACTTTGCGATACATGAGCCCAGAACAGATTTCTTCGCAAGACTATGGAAAGGAAGTGGACCTCTACGCTTTGGGGCTAATTCTTGCTGAACTTCTTCATGTATGTGACACTGCTTTTGAAACATCAAAGTTTTTCACAGACCTACGGGATGGCATCATCTCAGATATATTTGATAAAAAAGAAAAAACTCTTCTACAGAAATTACTCTCAAAGAAACCTGAGGATCGACCTAACACATCTGAAATACTAAGGACCTTGACTGTGTGGAAGAAAAGCCCAGAGAAAAATGAACGACACACATGTTAG'\n",
    "mut_pos = [(255,278),(371,385),(448,455),(480,506)]"
   ]
  },
  {
   "cell_type": "code",
   "execution_count": 19,
   "metadata": {
    "tags": []
   },
   "outputs": [
    {
     "ename": "FileNotFoundError",
     "evalue": "[Errno 2] No such file or directory: 'missense_table.csv'",
     "output_type": "error",
     "traceback": [
      "\u001b[0;31m---------------------------------------------------------------------------\u001b[0m",
      "\u001b[0;31mFileNotFoundError\u001b[0m                         Traceback (most recent call last)",
      "Cell \u001b[0;32mIn[19], line 7\u001b[0m\n\u001b[1;32m      4\u001b[0m codons \u001b[38;5;241m=\u001b[39m [seq[i:i\u001b[38;5;241m+\u001b[39m\u001b[38;5;241m3\u001b[39m] \u001b[38;5;28;01mfor\u001b[39;00m i \u001b[38;5;129;01min\u001b[39;00m \u001b[38;5;28mrange\u001b[39m(\u001b[38;5;241m0\u001b[39m, \u001b[38;5;28mlen\u001b[39m(seq), \u001b[38;5;241m3\u001b[39m)]\n\u001b[1;32m      6\u001b[0m \u001b[38;5;66;03m# make df of wt and iupac\u001b[39;00m\n\u001b[0;32m----> 7\u001b[0m mis_df \u001b[38;5;241m=\u001b[39m \u001b[43mpd\u001b[49m\u001b[38;5;241;43m.\u001b[39;49m\u001b[43mread_csv\u001b[49m\u001b[43m(\u001b[49m\u001b[38;5;124;43m'\u001b[39;49m\u001b[38;5;124;43mmissense_table.csv\u001b[39;49m\u001b[38;5;124;43m'\u001b[39;49m\u001b[43m)\u001b[49m\n\u001b[1;32m      9\u001b[0m data \u001b[38;5;241m=\u001b[39m {\u001b[38;5;124m'\u001b[39m\u001b[38;5;124mcodon\u001b[39m\u001b[38;5;124m'\u001b[39m:codons}\n\u001b[1;32m     10\u001b[0m df \u001b[38;5;241m=\u001b[39m pd\u001b[38;5;241m.\u001b[39mDataFrame(data)\n",
      "File \u001b[0;32m/opt/homebrew/Caskroom/mambaforge/base/envs/data_env/lib/python3.8/site-packages/pandas/util/_decorators.py:211\u001b[0m, in \u001b[0;36mdeprecate_kwarg.<locals>._deprecate_kwarg.<locals>.wrapper\u001b[0;34m(*args, **kwargs)\u001b[0m\n\u001b[1;32m    209\u001b[0m     \u001b[38;5;28;01melse\u001b[39;00m:\n\u001b[1;32m    210\u001b[0m         kwargs[new_arg_name] \u001b[38;5;241m=\u001b[39m new_arg_value\n\u001b[0;32m--> 211\u001b[0m \u001b[38;5;28;01mreturn\u001b[39;00m \u001b[43mfunc\u001b[49m\u001b[43m(\u001b[49m\u001b[38;5;241;43m*\u001b[39;49m\u001b[43margs\u001b[49m\u001b[43m,\u001b[49m\u001b[43m \u001b[49m\u001b[38;5;241;43m*\u001b[39;49m\u001b[38;5;241;43m*\u001b[39;49m\u001b[43mkwargs\u001b[49m\u001b[43m)\u001b[49m\n",
      "File \u001b[0;32m/opt/homebrew/Caskroom/mambaforge/base/envs/data_env/lib/python3.8/site-packages/pandas/util/_decorators.py:331\u001b[0m, in \u001b[0;36mdeprecate_nonkeyword_arguments.<locals>.decorate.<locals>.wrapper\u001b[0;34m(*args, **kwargs)\u001b[0m\n\u001b[1;32m    325\u001b[0m \u001b[38;5;28;01mif\u001b[39;00m \u001b[38;5;28mlen\u001b[39m(args) \u001b[38;5;241m>\u001b[39m num_allow_args:\n\u001b[1;32m    326\u001b[0m     warnings\u001b[38;5;241m.\u001b[39mwarn(\n\u001b[1;32m    327\u001b[0m         msg\u001b[38;5;241m.\u001b[39mformat(arguments\u001b[38;5;241m=\u001b[39m_format_argument_list(allow_args)),\n\u001b[1;32m    328\u001b[0m         \u001b[38;5;167;01mFutureWarning\u001b[39;00m,\n\u001b[1;32m    329\u001b[0m         stacklevel\u001b[38;5;241m=\u001b[39mfind_stack_level(),\n\u001b[1;32m    330\u001b[0m     )\n\u001b[0;32m--> 331\u001b[0m \u001b[38;5;28;01mreturn\u001b[39;00m \u001b[43mfunc\u001b[49m\u001b[43m(\u001b[49m\u001b[38;5;241;43m*\u001b[39;49m\u001b[43margs\u001b[49m\u001b[43m,\u001b[49m\u001b[43m \u001b[49m\u001b[38;5;241;43m*\u001b[39;49m\u001b[38;5;241;43m*\u001b[39;49m\u001b[43mkwargs\u001b[49m\u001b[43m)\u001b[49m\n",
      "File \u001b[0;32m/opt/homebrew/Caskroom/mambaforge/base/envs/data_env/lib/python3.8/site-packages/pandas/io/parsers/readers.py:950\u001b[0m, in \u001b[0;36mread_csv\u001b[0;34m(filepath_or_buffer, sep, delimiter, header, names, index_col, usecols, squeeze, prefix, mangle_dupe_cols, dtype, engine, converters, true_values, false_values, skipinitialspace, skiprows, skipfooter, nrows, na_values, keep_default_na, na_filter, verbose, skip_blank_lines, parse_dates, infer_datetime_format, keep_date_col, date_parser, dayfirst, cache_dates, iterator, chunksize, compression, thousands, decimal, lineterminator, quotechar, quoting, doublequote, escapechar, comment, encoding, encoding_errors, dialect, error_bad_lines, warn_bad_lines, on_bad_lines, delim_whitespace, low_memory, memory_map, float_precision, storage_options)\u001b[0m\n\u001b[1;32m    935\u001b[0m kwds_defaults \u001b[38;5;241m=\u001b[39m _refine_defaults_read(\n\u001b[1;32m    936\u001b[0m     dialect,\n\u001b[1;32m    937\u001b[0m     delimiter,\n\u001b[0;32m   (...)\u001b[0m\n\u001b[1;32m    946\u001b[0m     defaults\u001b[38;5;241m=\u001b[39m{\u001b[38;5;124m\"\u001b[39m\u001b[38;5;124mdelimiter\u001b[39m\u001b[38;5;124m\"\u001b[39m: \u001b[38;5;124m\"\u001b[39m\u001b[38;5;124m,\u001b[39m\u001b[38;5;124m\"\u001b[39m},\n\u001b[1;32m    947\u001b[0m )\n\u001b[1;32m    948\u001b[0m kwds\u001b[38;5;241m.\u001b[39mupdate(kwds_defaults)\n\u001b[0;32m--> 950\u001b[0m \u001b[38;5;28;01mreturn\u001b[39;00m \u001b[43m_read\u001b[49m\u001b[43m(\u001b[49m\u001b[43mfilepath_or_buffer\u001b[49m\u001b[43m,\u001b[49m\u001b[43m \u001b[49m\u001b[43mkwds\u001b[49m\u001b[43m)\u001b[49m\n",
      "File \u001b[0;32m/opt/homebrew/Caskroom/mambaforge/base/envs/data_env/lib/python3.8/site-packages/pandas/io/parsers/readers.py:605\u001b[0m, in \u001b[0;36m_read\u001b[0;34m(filepath_or_buffer, kwds)\u001b[0m\n\u001b[1;32m    602\u001b[0m _validate_names(kwds\u001b[38;5;241m.\u001b[39mget(\u001b[38;5;124m\"\u001b[39m\u001b[38;5;124mnames\u001b[39m\u001b[38;5;124m\"\u001b[39m, \u001b[38;5;28;01mNone\u001b[39;00m))\n\u001b[1;32m    604\u001b[0m \u001b[38;5;66;03m# Create the parser.\u001b[39;00m\n\u001b[0;32m--> 605\u001b[0m parser \u001b[38;5;241m=\u001b[39m \u001b[43mTextFileReader\u001b[49m\u001b[43m(\u001b[49m\u001b[43mfilepath_or_buffer\u001b[49m\u001b[43m,\u001b[49m\u001b[43m \u001b[49m\u001b[38;5;241;43m*\u001b[39;49m\u001b[38;5;241;43m*\u001b[39;49m\u001b[43mkwds\u001b[49m\u001b[43m)\u001b[49m\n\u001b[1;32m    607\u001b[0m \u001b[38;5;28;01mif\u001b[39;00m chunksize \u001b[38;5;129;01mor\u001b[39;00m iterator:\n\u001b[1;32m    608\u001b[0m     \u001b[38;5;28;01mreturn\u001b[39;00m parser\n",
      "File \u001b[0;32m/opt/homebrew/Caskroom/mambaforge/base/envs/data_env/lib/python3.8/site-packages/pandas/io/parsers/readers.py:1442\u001b[0m, in \u001b[0;36mTextFileReader.__init__\u001b[0;34m(self, f, engine, **kwds)\u001b[0m\n\u001b[1;32m   1439\u001b[0m     \u001b[38;5;28mself\u001b[39m\u001b[38;5;241m.\u001b[39moptions[\u001b[38;5;124m\"\u001b[39m\u001b[38;5;124mhas_index_names\u001b[39m\u001b[38;5;124m\"\u001b[39m] \u001b[38;5;241m=\u001b[39m kwds[\u001b[38;5;124m\"\u001b[39m\u001b[38;5;124mhas_index_names\u001b[39m\u001b[38;5;124m\"\u001b[39m]\n\u001b[1;32m   1441\u001b[0m \u001b[38;5;28mself\u001b[39m\u001b[38;5;241m.\u001b[39mhandles: IOHandles \u001b[38;5;241m|\u001b[39m \u001b[38;5;28;01mNone\u001b[39;00m \u001b[38;5;241m=\u001b[39m \u001b[38;5;28;01mNone\u001b[39;00m\n\u001b[0;32m-> 1442\u001b[0m \u001b[38;5;28mself\u001b[39m\u001b[38;5;241m.\u001b[39m_engine \u001b[38;5;241m=\u001b[39m \u001b[38;5;28;43mself\u001b[39;49m\u001b[38;5;241;43m.\u001b[39;49m\u001b[43m_make_engine\u001b[49m\u001b[43m(\u001b[49m\u001b[43mf\u001b[49m\u001b[43m,\u001b[49m\u001b[43m \u001b[49m\u001b[38;5;28;43mself\u001b[39;49m\u001b[38;5;241;43m.\u001b[39;49m\u001b[43mengine\u001b[49m\u001b[43m)\u001b[49m\n",
      "File \u001b[0;32m/opt/homebrew/Caskroom/mambaforge/base/envs/data_env/lib/python3.8/site-packages/pandas/io/parsers/readers.py:1735\u001b[0m, in \u001b[0;36mTextFileReader._make_engine\u001b[0;34m(self, f, engine)\u001b[0m\n\u001b[1;32m   1733\u001b[0m     \u001b[38;5;28;01mif\u001b[39;00m \u001b[38;5;124m\"\u001b[39m\u001b[38;5;124mb\u001b[39m\u001b[38;5;124m\"\u001b[39m \u001b[38;5;129;01mnot\u001b[39;00m \u001b[38;5;129;01min\u001b[39;00m mode:\n\u001b[1;32m   1734\u001b[0m         mode \u001b[38;5;241m+\u001b[39m\u001b[38;5;241m=\u001b[39m \u001b[38;5;124m\"\u001b[39m\u001b[38;5;124mb\u001b[39m\u001b[38;5;124m\"\u001b[39m\n\u001b[0;32m-> 1735\u001b[0m \u001b[38;5;28mself\u001b[39m\u001b[38;5;241m.\u001b[39mhandles \u001b[38;5;241m=\u001b[39m \u001b[43mget_handle\u001b[49m\u001b[43m(\u001b[49m\n\u001b[1;32m   1736\u001b[0m \u001b[43m    \u001b[49m\u001b[43mf\u001b[49m\u001b[43m,\u001b[49m\n\u001b[1;32m   1737\u001b[0m \u001b[43m    \u001b[49m\u001b[43mmode\u001b[49m\u001b[43m,\u001b[49m\n\u001b[1;32m   1738\u001b[0m \u001b[43m    \u001b[49m\u001b[43mencoding\u001b[49m\u001b[38;5;241;43m=\u001b[39;49m\u001b[38;5;28;43mself\u001b[39;49m\u001b[38;5;241;43m.\u001b[39;49m\u001b[43moptions\u001b[49m\u001b[38;5;241;43m.\u001b[39;49m\u001b[43mget\u001b[49m\u001b[43m(\u001b[49m\u001b[38;5;124;43m\"\u001b[39;49m\u001b[38;5;124;43mencoding\u001b[39;49m\u001b[38;5;124;43m\"\u001b[39;49m\u001b[43m,\u001b[49m\u001b[43m \u001b[49m\u001b[38;5;28;43;01mNone\u001b[39;49;00m\u001b[43m)\u001b[49m\u001b[43m,\u001b[49m\n\u001b[1;32m   1739\u001b[0m \u001b[43m    \u001b[49m\u001b[43mcompression\u001b[49m\u001b[38;5;241;43m=\u001b[39;49m\u001b[38;5;28;43mself\u001b[39;49m\u001b[38;5;241;43m.\u001b[39;49m\u001b[43moptions\u001b[49m\u001b[38;5;241;43m.\u001b[39;49m\u001b[43mget\u001b[49m\u001b[43m(\u001b[49m\u001b[38;5;124;43m\"\u001b[39;49m\u001b[38;5;124;43mcompression\u001b[39;49m\u001b[38;5;124;43m\"\u001b[39;49m\u001b[43m,\u001b[49m\u001b[43m \u001b[49m\u001b[38;5;28;43;01mNone\u001b[39;49;00m\u001b[43m)\u001b[49m\u001b[43m,\u001b[49m\n\u001b[1;32m   1740\u001b[0m \u001b[43m    \u001b[49m\u001b[43mmemory_map\u001b[49m\u001b[38;5;241;43m=\u001b[39;49m\u001b[38;5;28;43mself\u001b[39;49m\u001b[38;5;241;43m.\u001b[39;49m\u001b[43moptions\u001b[49m\u001b[38;5;241;43m.\u001b[39;49m\u001b[43mget\u001b[49m\u001b[43m(\u001b[49m\u001b[38;5;124;43m\"\u001b[39;49m\u001b[38;5;124;43mmemory_map\u001b[39;49m\u001b[38;5;124;43m\"\u001b[39;49m\u001b[43m,\u001b[49m\u001b[43m \u001b[49m\u001b[38;5;28;43;01mFalse\u001b[39;49;00m\u001b[43m)\u001b[49m\u001b[43m,\u001b[49m\n\u001b[1;32m   1741\u001b[0m \u001b[43m    \u001b[49m\u001b[43mis_text\u001b[49m\u001b[38;5;241;43m=\u001b[39;49m\u001b[43mis_text\u001b[49m\u001b[43m,\u001b[49m\n\u001b[1;32m   1742\u001b[0m \u001b[43m    \u001b[49m\u001b[43merrors\u001b[49m\u001b[38;5;241;43m=\u001b[39;49m\u001b[38;5;28;43mself\u001b[39;49m\u001b[38;5;241;43m.\u001b[39;49m\u001b[43moptions\u001b[49m\u001b[38;5;241;43m.\u001b[39;49m\u001b[43mget\u001b[49m\u001b[43m(\u001b[49m\u001b[38;5;124;43m\"\u001b[39;49m\u001b[38;5;124;43mencoding_errors\u001b[39;49m\u001b[38;5;124;43m\"\u001b[39;49m\u001b[43m,\u001b[49m\u001b[43m \u001b[49m\u001b[38;5;124;43m\"\u001b[39;49m\u001b[38;5;124;43mstrict\u001b[39;49m\u001b[38;5;124;43m\"\u001b[39;49m\u001b[43m)\u001b[49m\u001b[43m,\u001b[49m\n\u001b[1;32m   1743\u001b[0m \u001b[43m    \u001b[49m\u001b[43mstorage_options\u001b[49m\u001b[38;5;241;43m=\u001b[39;49m\u001b[38;5;28;43mself\u001b[39;49m\u001b[38;5;241;43m.\u001b[39;49m\u001b[43moptions\u001b[49m\u001b[38;5;241;43m.\u001b[39;49m\u001b[43mget\u001b[49m\u001b[43m(\u001b[49m\u001b[38;5;124;43m\"\u001b[39;49m\u001b[38;5;124;43mstorage_options\u001b[39;49m\u001b[38;5;124;43m\"\u001b[39;49m\u001b[43m,\u001b[49m\u001b[43m \u001b[49m\u001b[38;5;28;43;01mNone\u001b[39;49;00m\u001b[43m)\u001b[49m\u001b[43m,\u001b[49m\n\u001b[1;32m   1744\u001b[0m \u001b[43m\u001b[49m\u001b[43m)\u001b[49m\n\u001b[1;32m   1745\u001b[0m \u001b[38;5;28;01massert\u001b[39;00m \u001b[38;5;28mself\u001b[39m\u001b[38;5;241m.\u001b[39mhandles \u001b[38;5;129;01mis\u001b[39;00m \u001b[38;5;129;01mnot\u001b[39;00m \u001b[38;5;28;01mNone\u001b[39;00m\n\u001b[1;32m   1746\u001b[0m f \u001b[38;5;241m=\u001b[39m \u001b[38;5;28mself\u001b[39m\u001b[38;5;241m.\u001b[39mhandles\u001b[38;5;241m.\u001b[39mhandle\n",
      "File \u001b[0;32m/opt/homebrew/Caskroom/mambaforge/base/envs/data_env/lib/python3.8/site-packages/pandas/io/common.py:856\u001b[0m, in \u001b[0;36mget_handle\u001b[0;34m(path_or_buf, mode, encoding, compression, memory_map, is_text, errors, storage_options)\u001b[0m\n\u001b[1;32m    851\u001b[0m \u001b[38;5;28;01melif\u001b[39;00m \u001b[38;5;28misinstance\u001b[39m(handle, \u001b[38;5;28mstr\u001b[39m):\n\u001b[1;32m    852\u001b[0m     \u001b[38;5;66;03m# Check whether the filename is to be opened in binary mode.\u001b[39;00m\n\u001b[1;32m    853\u001b[0m     \u001b[38;5;66;03m# Binary mode does not support 'encoding' and 'newline'.\u001b[39;00m\n\u001b[1;32m    854\u001b[0m     \u001b[38;5;28;01mif\u001b[39;00m ioargs\u001b[38;5;241m.\u001b[39mencoding \u001b[38;5;129;01mand\u001b[39;00m \u001b[38;5;124m\"\u001b[39m\u001b[38;5;124mb\u001b[39m\u001b[38;5;124m\"\u001b[39m \u001b[38;5;129;01mnot\u001b[39;00m \u001b[38;5;129;01min\u001b[39;00m ioargs\u001b[38;5;241m.\u001b[39mmode:\n\u001b[1;32m    855\u001b[0m         \u001b[38;5;66;03m# Encoding\u001b[39;00m\n\u001b[0;32m--> 856\u001b[0m         handle \u001b[38;5;241m=\u001b[39m \u001b[38;5;28;43mopen\u001b[39;49m\u001b[43m(\u001b[49m\n\u001b[1;32m    857\u001b[0m \u001b[43m            \u001b[49m\u001b[43mhandle\u001b[49m\u001b[43m,\u001b[49m\n\u001b[1;32m    858\u001b[0m \u001b[43m            \u001b[49m\u001b[43mioargs\u001b[49m\u001b[38;5;241;43m.\u001b[39;49m\u001b[43mmode\u001b[49m\u001b[43m,\u001b[49m\n\u001b[1;32m    859\u001b[0m \u001b[43m            \u001b[49m\u001b[43mencoding\u001b[49m\u001b[38;5;241;43m=\u001b[39;49m\u001b[43mioargs\u001b[49m\u001b[38;5;241;43m.\u001b[39;49m\u001b[43mencoding\u001b[49m\u001b[43m,\u001b[49m\n\u001b[1;32m    860\u001b[0m \u001b[43m            \u001b[49m\u001b[43merrors\u001b[49m\u001b[38;5;241;43m=\u001b[39;49m\u001b[43merrors\u001b[49m\u001b[43m,\u001b[49m\n\u001b[1;32m    861\u001b[0m \u001b[43m            \u001b[49m\u001b[43mnewline\u001b[49m\u001b[38;5;241;43m=\u001b[39;49m\u001b[38;5;124;43m\"\u001b[39;49m\u001b[38;5;124;43m\"\u001b[39;49m\u001b[43m,\u001b[49m\n\u001b[1;32m    862\u001b[0m \u001b[43m        \u001b[49m\u001b[43m)\u001b[49m\n\u001b[1;32m    863\u001b[0m     \u001b[38;5;28;01melse\u001b[39;00m:\n\u001b[1;32m    864\u001b[0m         \u001b[38;5;66;03m# Binary mode\u001b[39;00m\n\u001b[1;32m    865\u001b[0m         handle \u001b[38;5;241m=\u001b[39m \u001b[38;5;28mopen\u001b[39m(handle, ioargs\u001b[38;5;241m.\u001b[39mmode)\n",
      "\u001b[0;31mFileNotFoundError\u001b[0m: [Errno 2] No such file or directory: 'missense_table.csv'"
     ]
    }
   ],
   "source": [
    "seq = seq.upper()\n",
    "\n",
    "# get list of codons\n",
    "codons = [seq[i:i+3] for i in range(0, len(seq), 3)]\n",
    "\n",
    "# make df of wt and iupac\n",
    "mis_df = pd.read_csv('missense_table.csv')\n",
    "\n",
    "data = {'codon':codons}\n",
    "df = pd.DataFrame(data)\n",
    "# merge the two\n",
    "df = pd.merge(df, mis_df[['codon','aa','mis_var']], how='left', on='codon')\n",
    "\n",
    "# convert string into list of characters\n",
    "df.mis_var = df.mis_var.apply(lambda x:list(x))\n",
    "\n",
    "# create a T/F df based on AA abbreviations\n",
    "def boolean_df(item_lists, unique_items):# Create empty dict\n",
    "    bool_dict = {}\n",
    "    \n",
    "    # Loop through all the tags\n",
    "    for i, item in enumerate(unique_items):\n",
    "        \n",
    "        # Apply boolean mask\n",
    "        bool_dict[item] = item_lists.apply(lambda x: item in x)\n",
    "            \n",
    "    # Return the results as a dataframe\n",
    "    return pd.DataFrame(bool_dict)\n",
    "\n",
    "# + H-K, - D-E, Polar-neutral C-T, Non-polar A-V, Aromatic F-Y, Unique G-P, Stop *\n",
    "aa_list = ['H','K','R','D','E','C','M','N','Q','S','T','A','I','L','V','F','W','Y','G','P','*']\n",
    "df2 = boolean_df(df.mis_var, aa_list)\n",
    "df2 = df2.astype(int)\n",
    "\n",
    "# replace all \"0\" with \"na\"\n",
    "df2.replace(0,np.nan, inplace=True)\n",
    "\n",
    "# change all \n",
    "mut_pos_list = []\n",
    "for win in mut_pos:\n",
    "        mut_pos_list.append(list(range(win[0]-1,win[1])))\n",
    "mut_pos_list = list(itertools.chain.from_iterable(mut_pos_list))\n",
    "\n",
    "# change all values not in filter to \"na\"\n",
    "df2.loc[~df.index.isin(mut_pos_list)] = np.nan\n",
    "\n",
    "# add in the wt aa with a value of \"2\"\n",
    "df3 = df.join(df2)\n",
    "for index,row in df3.iterrows():\n",
    "    wt_aa = row['aa']\n",
    "    df3.loc[index, wt_aa] = 2\n",
    "\n",
    "# increase index by 1 for residue position\n",
    "df3.index = df3.index + 1\n",
    "\n",
    "# add count of missense variants\n",
    "df3['variant_sum'] = df3[aa_list].sum(axis=1) - 2 #-2 is b/c wt has value of 2, remove\n",
    "\n",
    "# mark sites within 5a of PKR\n",
    "# select 5a_pkr, 2a1a within 5 of 1luz_k3l\n",
    "close = [276,277,278,337,375,379,382,416,450,451,453,454,485,486,487,488,489,490,491,492,493,496,499]\n",
    "df3['Within 5Å'] = np.where(df.index.isin(close), 3, np.nan)\n",
    "\n",
    "# mark sites under positive selection\n",
    "pos = [255,259,261,275,322,330,336,376,380,461,489,492,496,502,506,516,538]\n",
    "df3['+ Selection'] = np.where(df.index.isin(pos), 4, np.nan)"
   ]
  },
  {
   "cell_type": "code",
   "execution_count": 35,
   "metadata": {},
   "outputs": [],
   "source": [
    "df3.to_csv('pkr_missense-variants.csv')"
   ]
  },
  {
   "cell_type": "code",
   "execution_count": 23,
   "metadata": {},
   "outputs": [
    {
     "data": {
      "text/plain": [
       "[375, 378, 382, 405, 448, 455, 473, 480, 486, 491, 504, 524]"
      ]
     },
     "execution_count": 23,
     "metadata": {},
     "output_type": "execute_result"
    }
   ],
   "source": [
    "pkr_hyper = [375, 378, 382, 405, 448, 455, 473, 480, 486, 491, 504, 524]   "
   ]
  },
  {
   "cell_type": "code",
   "execution_count": 8,
   "metadata": {},
   "outputs": [
    {
     "data": {
      "image/png": "[encoded data removed]",
      "text/plain": [
       "<Figure size 2160x720 with 2 Axes>"
      ]
     },
     "metadata": {
      "needs_background": "light"
     },
     "output_type": "display_data"
    }
   ],
   "source": [
    "# try stacking the plots\n",
    "\n",
    "fig, axes = plt.subplots(nrows=2, ncols=1, figsize=(30,10), gridspec_kw={'height_ratios': [1, 3]})\n",
    "\n",
    "sn.barplot(ax=axes[0], x=df3[df.index > 249].index, y=df3[df.index > 249]['variant_sum'], palette=['#6cc494'])\n",
    "axes[0].set(ylabel=None)\n",
    "axes[0].set(xticklabels=[])  # remove x labels\n",
    "axes[0].set(xlabel=None)\n",
    "axes[0].tick_params(bottom=False)  # remove the ticks\n",
    "sn.heatmap(ax=axes[1], data=df3[df.index > 249][aa_list + ['Within 5Å','+ Selection']].T, cmap=['#6cc494', '#0f6a38', '#19172b', '#19172b'], cbar=False) # #0f6a38\n",
    "\n",
    "# frame the heatmap\n",
    "for _, spine in axes[1].spines.items():\n",
    "    spine.set_visible(True)\n",
    "\n",
    "# rotate heatmap y-labels\n",
    "plt.yticks(rotation=0)\n",
    "\n",
    "fig.savefig(f'{protein}_missense_variants.svg', transparent=True)"
   ]
  },
  {
   "cell_type": "code",
   "execution_count": 52,
   "metadata": {},
   "outputs": [
    {
     "data": {
      "image/png": "[encoded data removed]",
      "text/plain": [
       "<Figure size 2160x2880 with 1 Axes>"
      ]
     },
     "metadata": {
      "needs_background": "light"
     },
     "output_type": "display_data"
    }
   ],
   "source": [
    "# plot\n",
    "fig, ax = plt.subplots(figsize=(30,40))\n",
    "ax = sn.heatmap(df3[df.index > 249][aa_list].T, square=True, cmap=['#1e81b0', '#b01e4a'], cbar=False)\n",
    "#ax.set_title(f'{protein} Missense Variants')\n",
    "plt.yticks(rotation=0)\n",
    "fig = ax.get_figure()\n",
    "\n",
    "fig.savefig(f'{protein}_missense_variants.png')"
   ]
  },
  {
   "cell_type": "code",
   "execution_count": 187,
   "metadata": {},
   "outputs": [
    {
     "data": {
      "text/plain": [
       "[1,\n",
       " 2,\n",
       " 3,\n",
       " 4,\n",
       " 5,\n",
       " 6,\n",
       " 7,\n",
       " 8,\n",
       " 9,\n",
       " 10,\n",
       " 11,\n",
       " 12,\n",
       " 13,\n",
       " 14,\n",
       " 15,\n",
       " 16,\n",
       " 17,\n",
       " 18,\n",
       " 19,\n",
       " 20,\n",
       " 21,\n",
       " 22,\n",
       " 23,\n",
       " 24,\n",
       " 25,\n",
       " 26,\n",
       " 27,\n",
       " 28,\n",
       " 29,\n",
       " 30,\n",
       " 31,\n",
       " 32,\n",
       " 33,\n",
       " 34,\n",
       " 35,\n",
       " 36,\n",
       " 37,\n",
       " 38,\n",
       " 39,\n",
       " 40,\n",
       " 41,\n",
       " 42,\n",
       " 43,\n",
       " 44,\n",
       " 45,\n",
       " 46,\n",
       " 47,\n",
       " 48,\n",
       " 49,\n",
       " 50,\n",
       " 51,\n",
       " 52,\n",
       " 53,\n",
       " 54,\n",
       " 55,\n",
       " 56,\n",
       " 57,\n",
       " 58,\n",
       " 59,\n",
       " 60,\n",
       " 61,\n",
       " 62,\n",
       " 63,\n",
       " 64,\n",
       " 65,\n",
       " 66,\n",
       " 67,\n",
       " 68,\n",
       " 69,\n",
       " 70,\n",
       " 71,\n",
       " 72,\n",
       " 73,\n",
       " 74,\n",
       " 75,\n",
       " 76,\n",
       " 77,\n",
       " 78,\n",
       " 79,\n",
       " 80,\n",
       " 81,\n",
       " 82,\n",
       " 83,\n",
       " 84,\n",
       " 85,\n",
       " 86,\n",
       " 87]"
      ]
     },
     "execution_count": 187,
     "metadata": {},
     "output_type": "execute_result"
    }
   ],
   "source": [
    "mut_pos_list"
   ]
  },
  {
   "cell_type": "code",
   "execution_count": null,
   "metadata": {},
   "outputs": [],
   "source": []
  }
 ],
 "metadata": {
  "kernelspec": {
   "display_name": "data_env",
   "language": "python",
   "name": "data_env"
  },
  "language_info": {
   "codemirror_mode": {
    "name": "ipython",
    "version": 3
   },
   "file_extension": ".py",
   "mimetype": "text/x-python",
   "name": "python",
   "nbconvert_exporter": "python",
   "pygments_lexer": "ipython3",
   "version": "3.8.16"
  }
 },
 "nbformat": 4,
 "nbformat_minor": 4
}
