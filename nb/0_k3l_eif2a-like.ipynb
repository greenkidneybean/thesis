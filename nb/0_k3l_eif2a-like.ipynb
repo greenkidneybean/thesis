{
 "cells": [
  {
   "cell_type": "code",
   "execution_count": 1,
   "id": "ad25facd-0218-49a2-ae09-53689615470e",
   "metadata": {
    "tags": []
   },
   "outputs": [],
   "source": [
    "# how do k3l variants perform that make it more eif2a-like?"
   ]
  },
  {
   "cell_type": "code",
   "execution_count": 112,
   "id": "e3fca12e-1350-493c-b764-01251df9606f",
   "metadata": {
    "tags": []
   },
   "outputs": [
    {
     "data": {
      "text/plain": [
       "{'M1C': 'eIF2a-like',\n",
       " 'L2R': 'eIF2a-like',\n",
       " 'A3F': 'eIF2a-like',\n",
       " 'F4Y': 'eIF2a-like',\n",
       " 'C5Q': 'eIF2a-like',\n",
       " 'Y6H': 'eIF2a-like',\n",
       " 'S7K': 'eIF2a-like',\n",
       " 'L8F': 'eIF2a-like',\n",
       " 'P9P': 'eIF2a-like',\n",
       " 'N10E': 'eIF2a-like',\n",
       " 'A11V': 'eIF2a-like',\n",
       " 'G12E': 'eIF2a-like',\n",
       " 'D13D': 'eIF2a-like',\n",
       " 'V14V': 'eIF2a-like',\n",
       " 'I15V': 'eIF2a-like',\n",
       " 'K16M': 'eIF2a-like',\n",
       " 'G17V': 'eIF2a-like',\n",
       " 'R18N': 'eIF2a-like',\n",
       " 'V19V': 'eIF2a-like',\n",
       " 'Y20R': 'eIF2a-like',\n",
       " 'E21S': 'eIF2a-like',\n",
       " 'K22A': 'eIF2a-like',\n",
       " 'D23E': 'eIF2a-like',\n",
       " 'Y24M': 'eIF2a-like',\n",
       " 'A25G': 'eIF2a-like',\n",
       " 'L26A': 'eIF2a-like',\n",
       " 'Y27Y': 'eIF2a-like',\n",
       " 'I28V': 'eIF2a-like',\n",
       " 'Y29S': 'eIF2a-like',\n",
       " 'L30L': 'eIF2a-like',\n",
       " 'F31L': 'eIF2a-like',\n",
       " 'D32E': 'eIF2a-like',\n",
       " 'Y33Y': 'eIF2a-like',\n",
       " 'P34N': 'eIF2a-like',\n",
       " 'H35N': 'eIF2a-like',\n",
       " 'F36I': 'eIF2a-like',\n",
       " 'E37E': 'eIF2a-like',\n",
       " 'A38G': 'eIF2a-like',\n",
       " 'I39M': 'eIF2a-like',\n",
       " 'L40I': 'eIF2a-like',\n",
       " 'A41L': 'eIF2a-like',\n",
       " 'E42L': 'eIF2a-like',\n",
       " 'S43S': 'eIF2a-like',\n",
       " 'V44E': 'eIF2a-like',\n",
       " 'K45L': 'eIF2a-like',\n",
       " 'M46S': 'eIF2a-like',\n",
       " 'H47R': 'eIF2a-like',\n",
       " 'R50R': 'eIF2a-like',\n",
       " 'Y51R': 'eIF2a-like',\n",
       " 'V52I': 'eIF2a-like',\n",
       " 'E53R': 'eIF2a-like',\n",
       " 'Y54S': 'eIF2a-like',\n",
       " 'R55I': 'eIF2a-like',\n",
       " 'D56N': 'eIF2a-like',\n",
       " 'K57K': 'eIF2a-like',\n",
       " 'L58L': 'eIF2a-like',\n",
       " 'V59I': 'eIF2a-like',\n",
       " 'G60G': 'eIF2a-like',\n",
       " 'K61R': 'eIF2a-like',\n",
       " 'T62N': 'eIF2a-like',\n",
       " 'V63E': 'eIF2a-like',\n",
       " 'K64C': 'eIF2a-like',\n",
       " 'V65V': 'eIF2a-like',\n",
       " 'K66V': 'eIF2a-like',\n",
       " 'V67V': 'eIF2a-like',\n",
       " 'I68I': 'eIF2a-like',\n",
       " 'R69R': 'eIF2a-like',\n",
       " 'V70V': 'eIF2a-like',\n",
       " 'D71D': 'eIF2a-like',\n",
       " 'Y72K': 'eIF2a-like',\n",
       " 'T73E': 'eIF2a-like',\n",
       " 'K74K': 'eIF2a-like',\n",
       " 'G75G': 'eIF2a-like',\n",
       " 'Y76Y': 'eIF2a-like',\n",
       " 'I77I': 'eIF2a-like',\n",
       " 'D78D': 'eIF2a-like',\n",
       " 'V79L': 'eIF2a-like',\n",
       " 'N80S': 'eIF2a-like',\n",
       " 'Y81K': 'eIF2a-like',\n",
       " 'K82R': 'eIF2a-like',\n",
       " 'R83R': 'eIF2a-like',\n",
       " 'M84V': 'eIF2a-like',\n",
       " 'C85S': 'eIF2a-like',\n",
       " 'R86P': 'eIF2a-like',\n",
       " 'H87E': 'eIF2a-like',\n",
       " 'Q88E': 'eIF2a-like'}"
      ]
     },
     "execution_count": 112,
     "metadata": {},
     "output_type": "execute_result"
    }
   ],
   "source": [
    "# muscle alignment results\n",
    "eif2a_aln = \"MPGLSCRFYQHKFPEVEDVVMVNVRSIAEMGAYVSLLEYNNIEGMILLSELSR--RRIRSINKLIRIGRNECVVVIRVDKEKGYIDLSKRRVSPEEAIKCEDKFTKSKTVYSILRHVAEV\"\n",
    "k3l_aln = \"-----MLAFCYSLPNAGDVIKGRVYE-KDYALYIYLFDYPHFEAILAESVKMHMDRYVEYRDKL--VGKTVKVKVIRVDYTKGYIDVNYKRMCRHQ------------------------\"\n",
    "aln_score = \"        : :.:*:. **:  .* .  : . *: *::* ::*.::  *   .  * :   :**  :*..  * *****  *****:. .*:.  :                        \"\n",
    "\n",
    "aln_zip = zip(list(eif2a_aln),list(k3l_aln),list(aln_score))\n",
    "\n",
    "c = 1\n",
    "k3l_n = []\n",
    "for i,n in enumerate(aln_zip):\n",
    "    if n[1] != \"-\":\n",
    "        k3l_n.append(c)\n",
    "        c = c + 1\n",
    "    else:\n",
    "        k3l_n.append('')\n",
    "\n",
    "aln_zip = zip(list(eif2a_aln),list(k3l_aln),list(aln_score),k3l_n)\n",
    "\n",
    "# now make dictionary map\n",
    "eif2a_like_map = {}\n",
    "for n in aln_zip:\n",
    "    if n[0] != \"-\"  and n[1] != \"-\":\n",
    "        variant = n[1] + str(n[3]) + n[0]\n",
    "        eif2a_like_map[variant] = 'eIF2a-like'\n",
    "eif2a_like_map"
   ]
  },
  {
   "cell_type": "code",
   "execution_count": 122,
   "id": "8cf66753-5bb1-4383-9eee-6758034779a1",
   "metadata": {
    "tags": []
   },
   "outputs": [
    {
     "name": "stdout",
     "output_type": "stream",
     "text": [
      "Site: 1 eIF2a res: C Variant: H\n",
      "Not Similar\n",
      "\n",
      "Site: 2 eIF2a res: R Variant: H\n",
      "Strongly Similar, QHRK\n",
      "\n",
      "Site: 3 eIF2a res: F Variant: H\n",
      "Weakly Similar, HFY\n",
      "\n",
      "Site: 4 eIF2a res: Y Variant: H\n",
      "Strongly Similar, HY\n",
      "\n",
      "Site: 5 eIF2a res: Q Variant: H\n",
      "Strongly Similar, NHQK\n",
      "\n",
      "Site: 6 eIF2a res: H Variant: H\n",
      "Same\n",
      "\n",
      "Site: 7 eIF2a res: K Variant: H\n",
      "Strongly Similar, NHQK\n",
      "\n",
      "Site: 8 eIF2a res: F Variant: H\n",
      "Weakly Similar, HFY\n",
      "\n",
      "Site: 9 eIF2a res: P Variant: H\n",
      "Not Similar\n",
      "\n"
     ]
    }
   ],
   "source": [
    "eif2a_n_map = {}\n",
    "for n in zip(list(eif2a_aln),list(k3l_aln),list(aln_score),k3l_n):\n",
    "    if n[3] != '':\n",
    "        eif2a_n_map[n[3]] = n[0]\n",
    "eif2a_n_map\n",
    "\n",
    "# strongly or weakly similar\n",
    "strongly_similar = ['STA','NEQK','NHQK','NDEQ','QHRK','MILV','MILF','HY','FYW']\n",
    "weakly_similar = ['CSA','ATV','SAG','STNK','STPA','SGND','SNDEQK','NDEQHK','NEQHRK','FVLIM','HFY']\n",
    "\n",
    "site = 4\n",
    "variant = 'H'\n",
    "\n",
    "def similarity(site, variant):\n",
    "    print('Site:', site, 'eIF2a res:', eif2a_n_map[site], 'Variant:', variant)\n",
    "    if eif2a_n_map[site] == variant:\n",
    "        return 'Same'\n",
    "    for group in strongly_similar:\n",
    "        if eif2a_n_map[site] in group and variant in group:\n",
    "            return f'Strongly Similar, {group}'\n",
    "    for group in weakly_similar:\n",
    "        if eif2a_n_map[site] in group and variant in group:\n",
    "            return f'Weakly Similar, {group}'\n",
    "    return 'Not Similar'\n",
    "        \n",
    "for n in range(1,10):\n",
    "    print(similarity(n,variant))\n",
    "    print()"
   ]
  },
  {
   "cell_type": "code",
   "execution_count": null,
   "id": "579b7437-cdc1-4838-8535-4fa1517a2d89",
   "metadata": {},
   "outputs": [],
   "source": [
    "def var_similarity_score(site, variant):\n",
    "    print('Site:', site, 'eIF2a res:', eif2a_n_map[site], 'Variant:', variant)\n",
    "    if eif2a_n_map[site] == variant:\n",
    "        return 3\n",
    "    for group in strongly_similar:\n",
    "        if eif2a_n_map[site] in group and variant in group:\n",
    "            return 2\n",
    "    for group in weakly_similar:\n",
    "        if eif2a_n_map[site] in group and variant in group:\n",
    "            return 1\n",
    "    return 0\n",
    "        \n",
    "def wt_similarity_score(site, wt):\n",
    "    print('Site:', site, 'eIF2a res:', eif2a_n_map[site], 'Variant:', variant)\n",
    "    if eif2a_n_map[site] == wt:\n",
    "        return 3\n",
    "    for group in strongly_similar:\n",
    "        if eif2a_n_map[site] in group and wt in group:\n",
    "            return 2\n",
    "    for group in weakly_similar:\n",
    "        if eif2a_n_map[site] in group and wt in group:\n",
    "            return 1\n",
    "    return 0"
   ]
  },
  {
   "cell_type": "code",
   "execution_count": null,
   "id": "5c14495b-15c3-4557-830b-7a0e7f81cc8e",
   "metadata": {},
   "outputs": [],
   "source": []
  },
  {
   "cell_type": "code",
   "execution_count": 16,
   "id": "6552152a-ca55-4810-a0a0-99c24408f6ef",
   "metadata": {
    "tags": []
   },
   "outputs": [
    {
     "name": "stdout",
     "output_type": "stream",
     "text": [
      "Protein 1:  MPGLSCRFYQHKFPEVEDVVMVNVRSIAEMGAYVSLLEYNNIEGMILLSELSR----RRIRSINKLIRIGRNECVVVIRVDKEKGYIDLSKRRVSPEEAIKCEDKFTKSKTVYSILRHVAEVLEYTKDEQLESLFQRTAWVFDDKYKRPGYGAYDAFKHAVSDPSILDSLDLNEDEREVLINNINRRLTPQAVKIRADIEVACYGYEGIDAVKEALRAGLNCSTENMPIKINLIAPPRYVMTTTTLERTEGLSVLSQAMAVIKEKIEEKRGVFNVQMEPKVVTDTDETELARQMERLERENAEVDGDDDAEEMEAKAED\n",
      "Protein 2:  MLA-----FCYSLPNAGDVIKGRVYE-KDYALYIYLFDYPHFEA--ILAESVKMHMDRYVEYRDKL--VGKTVKVKVIRVDYTKGYIDVNYKRM-------C--------------RH--------------------------------------------------------------------------------------------------------------------------------------------------------------------------------------------------------Q\n",
      "Score:  -42.5\n"
     ]
    }
   ],
   "source": [
    "# Needleman-Wunsch global sequence alignment algorithm\n",
    "from Bio import pairwise2\n",
    "from Bio.Align import substitution_matrices\n",
    "\n",
    "# Define two example protein sequences\n",
    "eif2a_seq = \"MPGLSCRFYQHKFPEVEDVVMVNVRSIAEMGAYVSLLEYNNIEGMILLSELSRRRIRSINKLIRIGRNECVVVIRVDKEKGYIDLSKRRVSPEEAIKCEDKFTKSKTVYSILRHVAEVLEYTKDEQLESLFQRTAWVFDDKYKRPGYGAYDAFKHAVSDPSILDSLDLNEDEREVLINNINRRLTPQAVKIRADIEVACYGYEGIDAVKEALRAGLNCSTENMPIKINLIAPPRYVMTTTTLERTEGLSVLSQAMAVIKEKIEEKRGVFNVQMEPKVVTDTDETELARQMERLERENAEVDGDDDAEEMEAKAED\"\n",
    "k3l_seq = \"MLAFCYSLPNAGDVIKGRVYEKDYALYIYLFDYPHFEAILAESVKMHMDRYVEYRDKLVGKTVKVKVIRVDYTKGYIDVNYKRMCRHQ\"\n",
    "\n",
    "\n",
    "# Load the BLOSUM62 substitution matrix\n",
    "matrix = substitution_matrices.load(\"BLOSUM62\")\n",
    "\n",
    "# Perform the pairwise alignment using the Needleman-Wunsch algorithm\n",
    "alignments = pairwise2.align.globalds(eif2a_seq, k3l_seq, matrix, -10, -0.5)\n",
    "\n",
    "# Print the best alignment (highest score)\n",
    "best_alignment = alignments[0]\n",
    "print(\"Protein 1: \", best_alignment[0])\n",
    "print(\"Protein 2: \", best_alignment[1])\n",
    "print(\"Score: \", best_alignment[2])"
   ]
  },
  {
   "cell_type": "code",
   "execution_count": 18,
   "id": "756a826c-072a-4bee-95e4-1926a1ac145a",
   "metadata": {
    "tags": []
   },
   "outputs": [
    {
     "name": "stdout",
     "output_type": "stream",
     "text": [
      "-42.5\n",
      "Alignment(seqA='MPGLSCRFYQHKFPEVEDVVMVNVRSIAEMGAYVSLLEYNNIEGMILLSELSR----RRIRSINKLIRIGRNECVVVIRVDKEKGYIDLSKRRVSPEEAIKCEDKFTKSKTVYSILRHVAEVLEYTKDEQLESLFQRTAWVFDDKYKRPGYGAYDAFKHAVSDPSILDSLDLNEDEREVLINNINRRLTPQAVKIRADIEVACYGYEGIDAVKEALRAGLNCSTENMPIKINLIAPPRYVMTTTTLERTEGLSVLSQAMAVIKEKIEEKRGVFNVQMEPKVVTDTDETELARQMERLERENAEVDGDDDAEEMEAKAED', seqB='MLA-----FCYSLPNAGDVIKGRVYE-KDYALYIYLFDYPHFEA--ILAESVKMHMDRYVEYRDKL--VGKTVKVKVIRVDYTKGYIDVNYKRM-------C--------------RH--------------------------------------------------------------------------------------------------------------------------------------------------------------------------------------------------------Q', score=-42.5, start=0, end=319)\n",
      "-42.5\n",
      "Alignment(seqA='MPGLSCRFYQHKFPEVEDVVMVNVRSIAEMGAYVSLLEYNNIEGMILLSELSR----RRIRSINKLIRIGRNECVVVIRVDKEKGYIDLSKRRVSPEEAIKCEDKFTKSKTVYSILRHVAEVLEYTKDEQLESLFQRTAWVFDDKYKRPGYGAYDAFKHAVSDPSILDSLDLNEDEREVLINNINRRLTPQAVKIRADIEVACYGYEGIDAVKEALRAGLNCSTENMPIKINLIAPPRYVMTTTTLERTEGLSVLSQAMAVIKEKIEEKRGVFNVQMEPKVVTDTDETELARQMERLERENAEVDGDDDAEEMEAKAED', seqB='MLA-----FCYSLPNAGDVIKGRVYE-KDYALYIYLFDYPHFEA--ILAESVKMHMDRYVEYRDKLV--GKTVKVKVIRVDYTKGYIDVNYKRM-------C--------------RH--------------------------------------------------------------------------------------------------------------------------------------------------------------------------------------------------------Q', score=-42.5, start=0, end=319)\n"
     ]
    }
   ],
   "source": [
    "for alignment in pairwise2.align.globalds(eif2a_seq, k3l_seq, matrix, -10, -0.5):\n",
    "    print(alignment.score)\n",
    "    print(alignment)"
   ]
  },
  {
   "cell_type": "code",
   "execution_count": 50,
   "id": "dfa3d1e8-a661-4834-986b-66f89812eb2e",
   "metadata": {
    "tags": []
   },
   "outputs": [
    {
     "name": "stdout",
     "output_type": "stream",
     "text": [
      "-112.5\n",
      "target            0 MPGLSCRFYQHKFPEVEDVVMVNVRSIAEMGAYVSLLEYNNIEGMILLSELSRRRIRSIN\n",
      "                  0 |------............|............|..|..|...|.....|...........\n",
      "query             0 M------LAFCYSLPNAGDVIKGRVYEKDYALYIYLFDYPHFEAILAESVKMHMDRYVEY\n",
      "\n",
      "target           60 KLIRIGRNECVVVIRVDKEKGYIDLSKRRVSPEEAIKCEDKFTKSKTVYSILRHVAEVLE\n",
      "                 60 .....|....|.|||||..|||||....|-------------------------------\n",
      "query            54 RDKLVGKTVKVKVIRVDYTKGYIDVNYKR-------------------------------\n",
      "\n",
      "target          120 YTKDEQLESLFQRTAWVFDDKYKRPGYGAYDAFKHAVSDPSILDSLDLNEDEREVLINNI\n",
      "                120 ------------------------------------------------------------\n",
      "query            83 ------------------------------------------------------------\n",
      "\n",
      "target          180 NRRLTPQAVKIRADIEVACYGYEGIDAVKEALRAGLNCSTENMPIKINLIAPPRYVMTTT\n",
      "                180 ------------------------------------------------------------\n",
      "query            83 ------------------------------------------------------------\n",
      "\n",
      "target          240 TLERTEGLSVLSQAMAVIKEKIEEKRGVFNVQMEPKVVTDTDETELARQMERLERENAEV\n",
      "                240 ------------------------------------------------------------\n",
      "query            83 ------------------------------------------------------------\n",
      "\n",
      "target          300 DGDDDAEEMEAKAED 315\n",
      "                300 ----------..... 315\n",
      "query            83 ----------MCRHQ  88\n",
      "\n"
     ]
    }
   ],
   "source": [
    "# alt global aligner\n",
    "aligner = Align.PairwiseAligner()\n",
    "aligner.mode = 'global'\n",
    "aligner.open_gap_score = -10\n",
    "aligner.extend_gap_score = -0.5\n",
    "\n",
    "alignments =  aligner.align(eif2a_seq,k3l_seq)\n",
    "print(alignments[0].score)\n",
    "print(alignments[0])"
   ]
  },
  {
   "cell_type": "code",
   "execution_count": 11,
   "id": "88a04717-5a67-4121-9c9e-910ace8d6e0a",
   "metadata": {
    "tags": []
   },
   "outputs": [
    {
     "name": "stdout",
     "output_type": "stream",
     "text": [
      "Protein 1:  MPGLSCRFYQHKFPEVEDVVMVNVRSIAEMGAYVSLLEYNNIEGMILLSELSR----RRIRSINKLIRIGRNECVVVIRVDKEKGYIDLSKRRVSPEEAIKCEDKFTKSKTVYSILRHVAEVLEYTKDEQLESLFQRTAWVFDDKYKRPGYGAYDAFKHAVSDPSILDSLDLNEDEREVLINNINRRLTPQAVKIRADIEVACYGYEGIDAVKEALRAGLNCSTENMPIKINLIAPPRYVMTTTTLERTEGLSVLSQAMAVIKEKIEEKRGVFNVQMEPKVVTDTDETELARQMERLERENAEVDGDDDAEEMEAKAED\n",
      "Protein 2:  -----MLAFCYSLPNAGDVIKGRVYE-KDYALYIYLFDYPHFEA--ILAESVKMHMDRYVEYRDKL--VGKTVKVKVIRVDYTKGYIDVNYKRMCRHQ-----------------------------------------------------------------------------------------------------------------------------------------------------------------------------------------------------------------------------\n",
      "Score:  84.5\n"
     ]
    }
   ],
   "source": [
    "# muscle align\n",
    "# eIF2a_human_J02645\n",
    "eif2a_seq = \"MPGLSCRFYQHKFPEVEDVVMVNVRSIAEMGAYVSLLEYNNIEGMILLSELSRRRIRSINKLIRIGRNECVVVIRVDKEKGYIDLSKRRVSPEEAIKCEDKFTKSKTVYSILRHVAEVLEYTKDEQLESLFQRTAWVFDDKYKRPGYGAYDAFKHAVSDPSILDSLDLNEDEREVLINNINRRLTPQAVKIRADIEVACYGYEGIDAVKEALRAGLNCSTENMPIKINLIAPPRYVMTTTTLERTEGLSVLSQAMAVIKEKIEEKRGVFNVQMEPKVVTDTDETELARQMERLERENAEVDGDDDAEEMEAKAED\"\n",
    "\n",
    "# VACV-WR_GB-AY243312.1_loc-27305:27572(-)\n",
    "k3l_seq = \"MLAFCYSLPNAGDVIKGRVYEKDYALYIYLFDYPHFEAILAESVKMHMDRYVEYRDKLVGKTVKVKVIRVDYTKGYIDVNYKRMCRHQ\"\n",
    "\n",
    "\n",
    "# Load the BLOSUM62 substitution matrix\n",
    "matrix = substitution_matrices.load(\"BLOSUM62\")\n",
    "\n",
    "# Perform the pairwise alignment using the Smith-Waterman algorithm\n",
    "alignments = pairwise2.align.localds(eif2a_seq, k3l_seq, matrix, -10, -0.5)\n",
    "\n",
    "# Print the best alignment (highest score)\n",
    "best_alignment = alignments[0]\n",
    "\n",
    "print(\"Protein 1: \", best_alignment[0])\n",
    "print(\"Protein 2: \", best_alignment[1])\n",
    "print(\"Score: \", best_alignment[2])"
   ]
  },
  {
   "cell_type": "code",
   "execution_count": 13,
   "id": "67e97655-b661-40f1-80f4-9588c49d362c",
   "metadata": {
    "tags": []
   },
   "outputs": [
    {
     "data": {
      "text/plain": [
       "[Alignment(seqA='MPGLSCRFYQHKFPEVEDVVMVNVRSIAEMGAYVSLLEYNNIEGMILLSELSR----RRIRSINKLIRIGRNECVVVIRVDKEKGYIDLSKRRVSPEEAIKCEDKFTKSKTVYSILRHVAEVLEYTKDEQLESLFQRTAWVFDDKYKRPGYGAYDAFKHAVSDPSILDSLDLNEDEREVLINNINRRLTPQAVKIRADIEVACYGYEGIDAVKEALRAGLNCSTENMPIKINLIAPPRYVMTTTTLERTEGLSVLSQAMAVIKEKIEEKRGVFNVQMEPKVVTDTDETELARQMERLERENAEVDGDDDAEEMEAKAED', seqB='-----MLAFCYSLPNAGDVIKGRVYE-KDYALYIYLFDYPHFEA--ILAESVKMHMDRYVEYRDKL--VGKTVKVKVIRVDYTKGYIDVNYKRMCRHQ-----------------------------------------------------------------------------------------------------------------------------------------------------------------------------------------------------------------------------', score=84.5, start=10, end=94),\n",
       " Alignment(seqA='MPGLSCRFYQHKFPEVEDVVMVNVRSIAEMGAYVSLLEYNNIEGMILLSELSR----RRIRSINKLIRIGRNECVVVIRVDKEKGYIDLSKRRVSPEEAIKCEDKFTKSKTVYSILRHVAEVLEYTKDEQLESLFQRTAWVFDDKYKRPGYGAYDAFKHAVSDPSILDSLDLNEDEREVLINNINRRLTPQAVKIRADIEVACYGYEGIDAVKEALRAGLNCSTENMPIKINLIAPPRYVMTTTTLERTEGLSVLSQAMAVIKEKIEEKRGVFNVQMEPKVVTDTDETELARQMERLERENAEVDGDDDAEEMEAKAED', seqB='-----MLAFCYSLPNAGDVIKGRVYE-KDYALYIYLFDYPHFEA--ILAESVKMHMDRYVEYRDKLV--GKTVKVKVIRVDYTKGYIDVNYKRMCRHQ-----------------------------------------------------------------------------------------------------------------------------------------------------------------------------------------------------------------------------', score=84.5, start=10, end=94)]"
      ]
     },
     "execution_count": 13,
     "metadata": {},
     "output_type": "execute_result"
    }
   ],
   "source": [
    "alignments"
   ]
  },
  {
   "cell_type": "code",
   "execution_count": 8,
   "id": "c6eb5034-40fa-48f0-944b-19ed30477d60",
   "metadata": {
    "tags": []
   },
   "outputs": [],
   "source": [
    "from Bio import Align"
   ]
  },
  {
   "cell_type": "code",
   "execution_count": 10,
   "id": "30d28fff-ad1c-4f94-99c9-90ab0a0a83a9",
   "metadata": {
    "tags": []
   },
   "outputs": [
    {
     "name": "stdout",
     "output_type": "stream",
     "text": [
      "Protein 1:  MPGLSCR-F-YQHKF--PEVEDVVMVNVRSIAEMGAY-VSLLEYNNIEGMILLSELSRRRIRSINKLIRIGRNECVVVIRVDKEKGYIDLSKRRVSPEEAIKCEDKFTKSKTVYSILRHVAEVLEYTKDEQ--LESLFQRTAWVFDDKYKRPGYGAYDAFKH--AVSDPSILD--SL-----DLNEDERE-VLINNIN--RR--L---TPQAVK---IRADIEVAC-Y--GYEGIDAVKEALRAGLNCSTENMPIKINLIAPPRYVMTTTTLERTEGLSVLSQAMAVIKEKIEEKRGVFNVQMEPKVVTDTDETELA-R-QMERLERENAEVDGDDDAEEMEAKAED\n",
      "Protein 2:  M--L---AFCY----SLP--------N----A--G--DV-------I------------------K----GR---V----------Y----------E---K--D--------Y------A--L-Y-----IYL---F-------D--Y--P---------HFEA-----IL-AES-VKMHMD-----R-YV------EYR-DKLVGKT---VKVKVIR----V--DYTKGY--ID-V--------N-----------------Y-----------------------K------R------M--------------CRHQ--------------------------\n"
     ]
    },
    {
     "ename": "IndexError",
     "evalue": "row index out of range",
     "output_type": "error",
     "traceback": [
      "\u001b[0;31m---------------------------------------------------------------------------\u001b[0m",
      "\u001b[0;31mIndexError\u001b[0m                                Traceback (most recent call last)",
      "Cell \u001b[0;32mIn[10], line 9\u001b[0m\n\u001b[1;32m      7\u001b[0m \u001b[38;5;28mprint\u001b[39m(\u001b[38;5;124m\"\u001b[39m\u001b[38;5;124mProtein 1: \u001b[39m\u001b[38;5;124m\"\u001b[39m, best_alignment[\u001b[38;5;241m0\u001b[39m])\n\u001b[1;32m      8\u001b[0m \u001b[38;5;28mprint\u001b[39m(\u001b[38;5;124m\"\u001b[39m\u001b[38;5;124mProtein 2: \u001b[39m\u001b[38;5;124m\"\u001b[39m, best_alignment[\u001b[38;5;241m1\u001b[39m])\n\u001b[0;32m----> 9\u001b[0m \u001b[38;5;28mprint\u001b[39m(\u001b[38;5;124m\"\u001b[39m\u001b[38;5;124mScore: \u001b[39m\u001b[38;5;124m\"\u001b[39m, \u001b[43mbest_alignment\u001b[49m\u001b[43m[\u001b[49m\u001b[38;5;241;43m2\u001b[39;49m\u001b[43m]\u001b[49m)\n",
      "File \u001b[0;32m/opt/homebrew/Caskroom/mambaforge/base/envs/data_env/lib/python3.8/site-packages/Bio/Align/__init__.py:1792\u001b[0m, in \u001b[0;36mAlignment.__getitem__\u001b[0;34m(self, key)\u001b[0m\n\u001b[1;32m   1692\u001b[0m \u001b[38;5;250m\u001b[39m\u001b[38;5;124;03m\"\"\"Return self[key].\u001b[39;00m\n\u001b[1;32m   1693\u001b[0m \n\u001b[1;32m   1694\u001b[0m \u001b[38;5;124;03mIndices of the form\u001b[39;00m\n\u001b[0;32m   (...)\u001b[0m\n\u001b[1;32m   1789\u001b[0m \u001b[38;5;124;03m<BLANKLINE>\u001b[39;00m\n\u001b[1;32m   1790\u001b[0m \u001b[38;5;124;03m\"\"\"\u001b[39;00m\n\u001b[1;32m   1791\u001b[0m \u001b[38;5;28;01mif\u001b[39;00m \u001b[38;5;28misinstance\u001b[39m(key, numbers\u001b[38;5;241m.\u001b[39mIntegral):\n\u001b[0;32m-> 1792\u001b[0m     \u001b[38;5;28;01mreturn\u001b[39;00m \u001b[38;5;28;43mself\u001b[39;49m\u001b[38;5;241;43m.\u001b[39;49m\u001b[43m_get_row\u001b[49m\u001b[43m(\u001b[49m\u001b[43mkey\u001b[49m\u001b[43m)\u001b[49m\n\u001b[1;32m   1793\u001b[0m \u001b[38;5;28;01mif\u001b[39;00m \u001b[38;5;28misinstance\u001b[39m(key, \u001b[38;5;28mslice\u001b[39m):\n\u001b[1;32m   1794\u001b[0m     \u001b[38;5;28;01mreturn\u001b[39;00m \u001b[38;5;28mself\u001b[39m\u001b[38;5;241m.\u001b[39m_get_rows(key)\n",
      "File \u001b[0;32m/opt/homebrew/Caskroom/mambaforge/base/envs/data_env/lib/python3.8/site-packages/Bio/Align/__init__.py:1325\u001b[0m, in \u001b[0;36mAlignment._get_row\u001b[0;34m(self, index)\u001b[0m\n\u001b[1;32m   1323\u001b[0m         \u001b[38;5;28;01mraise\u001b[39;00m \u001b[38;5;167;01mIndexError\u001b[39;00m(\u001b[38;5;124m\"\u001b[39m\u001b[38;5;124mrow index out of range\u001b[39m\u001b[38;5;124m\"\u001b[39m)\n\u001b[1;32m   1324\u001b[0m \u001b[38;5;28;01melif\u001b[39;00m index \u001b[38;5;241m>\u001b[39m\u001b[38;5;241m=\u001b[39m n:\n\u001b[0;32m-> 1325\u001b[0m     \u001b[38;5;28;01mraise\u001b[39;00m \u001b[38;5;167;01mIndexError\u001b[39;00m(\u001b[38;5;124m\"\u001b[39m\u001b[38;5;124mrow index out of range\u001b[39m\u001b[38;5;124m\"\u001b[39m)\n\u001b[1;32m   1326\u001b[0m aligned \u001b[38;5;241m=\u001b[39m \u001b[38;5;28msum\u001b[39m(steps \u001b[38;5;241m!=\u001b[39m \u001b[38;5;241m0\u001b[39m, \u001b[38;5;241m0\u001b[39m) \u001b[38;5;241m>\u001b[39m \u001b[38;5;241m1\u001b[39m\n\u001b[1;32m   1327\u001b[0m \u001b[38;5;66;03m# True for steps in which at least two sequences align, False if a gap\u001b[39;00m\n",
      "\u001b[0;31mIndexError\u001b[0m: row index out of range"
     ]
    }
   ],
   "source": [
    "aligner = Align.PairwiseAligner()\n",
    "aligner.mode = 'global'\n",
    "alignment = aligner.align(eif2a_seq,k3l_seq)\n",
    "\n",
    "best_alignment = alignment[0]\n",
    "\n",
    "print(\"Protein 1: \", best_alignment[0])\n",
    "print(\"Protein 2: \", best_alignment[1])\n",
    "print(\"Score: \", best_alignment[2])"
   ]
  },
  {
   "cell_type": "code",
   "execution_count": null,
   "id": "fb203f0c-778b-4e46-a43e-52bfd0023684",
   "metadata": {},
   "outputs": [],
   "source": []
  }
 ],
 "metadata": {
  "kernelspec": {
   "display_name": "data_env",
   "language": "python",
   "name": "data_env"
  },
  "language_info": {
   "codemirror_mode": {
    "name": "ipython",
    "version": 3
   },
   "file_extension": ".py",
   "mimetype": "text/x-python",
   "name": "python",
   "nbconvert_exporter": "python",
   "pygments_lexer": "ipython3",
   "version": "3.8.16"
  }
 },
 "nbformat": 4,
 "nbformat_minor": 5
}
